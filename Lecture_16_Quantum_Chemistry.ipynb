{
 "cells": [
  {
   "cell_type": "markdown",
   "metadata": {
    "colab_type": "text",
    "id": "jdf4dT0uTDFd"
   },
   "source": [
    "# Lecture 16: Quantum Chemistry\n",
    "\n",
    "### Overview\n",
    "\n",
    "In this notebook we will use Cirq to demonstrate some of the basics of **quantum chemistry**, a study of chemistry focusing on the property and behavior of particles that make up atoms. \n",
    "\n",
    "Here we're going to focus on the **electron**, a type of small, light particle (i.e. fermion) that makes up matter. Electrons and their interactions play a large role in the determining physical and chemical properties of atoms and molecules including atomic size (number of electrons), bonds (electrons availble in valence shells), etc. \n",
    "\n",
    "In quantum mechanics, the physical state of an electron is described by a **wavefunction**. The wavefunction is paramaterized with probability amplitudes that correspond to the likelyhood of finding the system in some state. \n",
    "\n",
    "In quantum simulation, we want to **model the dynamic evolution of the wavefunction under some Hamiltonian H** as per\n",
    "Schrödinger’s equation, ie. how the state changes with the application of some operator.\n"
   ]
  },
  {
   "cell_type": "markdown",
   "metadata": {
    "colab_type": "text",
    "id": "QuJ9kE2TIk5P"
   },
   "source": [
    "### Libraries & Packages\n",
    "\n",
    "[**OpenFermion**](https://github.com/quantumlib/OpenFermion) is an open-source software library aimed at enabling the simulation of fermionic and bosonic models\n",
    "and quantum chemistry problems on quantum hardware. We'll use OpenFermion to help us go from a molecular specification to a\n",
    "quantum circuit for solving or studying the electronic structure problem on a quantum computer.\n",
    "\n",
    "[**Psi4**](http://www.psicode.org/) and [**Pyscf**](https://sunqm.github.io/pyscf/) are open-source packages that takes in physical constants as inputs (ab initio) and solves the electronic Schrodinger equation given the positions of the nuclei and number of electrons. This gives us useful information about other properties of the system like electron density.\n",
    "\n",
    "[**OpenFermion-Psi4**](https://github.com/quantumlib/OpenFermion-Psi4) and [**OpenFermion-Pyscf**](https://github.com/quantumlib/OpenFermion-PySCF) are OpenFermion plugins that interface with Psi4 and PySCF."
   ]
  },
  {
   "cell_type": "code",
   "execution_count": 0,
   "metadata": {
    "colab": {
     "base_uri": "https://localhost:8080/",
     "height": 1000
    },
    "colab_type": "code",
    "id": "babE3T61S-yd",
    "outputId": "e6c45f5e-eb9f-4013-9dd6-f59f7aa90b7a"
   },
   "outputs": [
    {
     "name": "stdout",
     "output_type": "stream",
     "text": [
      "Requirement already satisfied: openfermion in /usr/local/lib/python3.6/site-packages (0.9.0)\n",
      "Requirement already satisfied: openfermionpsi4 in /usr/local/lib/python3.6/site-packages (0.4)\n",
      "Requirement already satisfied: openfermioncirq in /usr/local/lib/python3.6/site-packages (0.3.0)\n",
      "Requirement already satisfied: pyscf in /usr/local/lib/python3.6/site-packages (1.7.1)\n",
      "Requirement already satisfied: openfermionpyscf in /usr/local/lib/python3.6/site-packages (0.4)\n",
      "Requirement already satisfied: h5py>=2.8 in /usr/local/lib/python3.6/site-packages (from openfermion) (2.10.0)\n",
      "Requirement already satisfied: matplotlib in /usr/local/lib/python3.6/site-packages (from openfermion) (3.2.0)\n",
      "Requirement already satisfied: pubchempy in /usr/local/lib/python3.6/site-packages (from openfermion) (1.0.4)\n",
      "Requirement already satisfied: scipy>=1.1.0 in /usr/local/lib/python3.6/site-packages (from openfermion) (1.4.1)\n",
      "Requirement already satisfied: jupyter in /usr/local/lib/python3.6/site-packages (from openfermion) (1.0.0)\n",
      "Requirement already satisfied: future in /usr/local/lib/python3.6/site-packages (from openfermion) (0.18.2)\n",
      "Requirement already satisfied: nbformat in /usr/local/lib/python3.6/site-packages (from openfermion) (5.0.4)\n",
      "Requirement already satisfied: six in /usr/local/lib/python3.6/site-packages (from openfermion) (1.11.0)\n",
      "Requirement already satisfied: numpy>=1.11.0 in /usr/local/lib/python3.6/site-packages (from openfermion) (1.18.1)\n",
      "Requirement already satisfied: networkx in /usr/local/lib/python3.6/site-packages (from openfermion) (2.4)\n",
      "Requirement already satisfied: pandas in /usr/local/lib/python3.6/site-packages (from openfermioncirq) (1.0.1)\n",
      "Requirement already satisfied: cirq==0.4.0 in /usr/local/lib/python3.6/site-packages (from openfermioncirq) (0.4.0)\n",
      "Requirement already satisfied: pytest in /usr/local/lib/python3.6/site-packages (from openfermionpyscf) (3.9.1)\n",
      "Requirement already satisfied: pyparsing!=2.0.4,!=2.1.2,!=2.1.6,>=2.0.1 in /usr/local/lib/python3.6/site-packages (from matplotlib->openfermion) (2.4.6)\n",
      "Requirement already satisfied: cycler>=0.10 in /usr/local/lib/python3.6/site-packages (from matplotlib->openfermion) (0.10.0)\n",
      "Requirement already satisfied: python-dateutil>=2.1 in /usr/local/lib/python3.6/site-packages (from matplotlib->openfermion) (2.8.1)\n",
      "Requirement already satisfied: kiwisolver>=1.0.1 in /usr/local/lib/python3.6/site-packages (from matplotlib->openfermion) (1.1.0)\n",
      "Requirement already satisfied: qtconsole in /usr/local/lib/python3.6/site-packages (from jupyter->openfermion) (4.7.1)\n",
      "Requirement already satisfied: jupyter-console in /usr/local/lib/python3.6/site-packages (from jupyter->openfermion) (6.1.0)\n",
      "Requirement already satisfied: ipywidgets in /usr/local/lib/python3.6/site-packages (from jupyter->openfermion) (7.5.1)\n",
      "Requirement already satisfied: notebook in /usr/local/lib/python3.6/site-packages (from jupyter->openfermion) (6.0.3)\n",
      "Requirement already satisfied: nbconvert in /usr/local/lib/python3.6/site-packages (from jupyter->openfermion) (5.6.1)\n",
      "Requirement already satisfied: ipykernel in /usr/local/lib/python3.6/site-packages (from jupyter->openfermion) (5.1.4)\n",
      "Requirement already satisfied: jsonschema!=2.5.0,>=2.4 in /usr/local/lib/python3.6/site-packages (from nbformat->openfermion) (3.2.0)\n",
      "Requirement already satisfied: jupyter-core in /usr/local/lib/python3.6/site-packages (from nbformat->openfermion) (4.6.3)\n",
      "Requirement already satisfied: ipython-genutils in /usr/local/lib/python3.6/site-packages (from nbformat->openfermion) (0.2.0)\n",
      "Requirement already satisfied: traitlets>=4.1 in /usr/local/lib/python3.6/site-packages (from nbformat->openfermion) (4.3.3)\n",
      "Requirement already satisfied: decorator>=4.3.0 in /usr/local/lib/python3.6/site-packages (from networkx->openfermion) (4.4.2)\n",
      "Requirement already satisfied: pytz>=2017.2 in /usr/local/lib/python3.6/site-packages (from pandas->openfermioncirq) (2019.3)\n",
      "Requirement already satisfied: protobuf~=3.5 in /usr/local/lib/python3.6/site-packages (from cirq==0.4.0->openfermioncirq) (3.8.0)\n",
      "Requirement already satisfied: google-api-python-client~=1.6 in /usr/local/lib/python3.6/site-packages (from cirq==0.4.0->openfermioncirq) (1.7.11)\n",
      "Requirement already satisfied: requests~=2.18 in /usr/local/lib/python3.6/site-packages (from cirq==0.4.0->openfermioncirq) (2.18.4)\n",
      "Requirement already satisfied: typing-extensions in /usr/local/lib/python3.6/site-packages (from cirq==0.4.0->openfermioncirq) (3.7.4.1)\n",
      "Requirement already satisfied: sortedcontainers~=2.0 in /usr/local/lib/python3.6/site-packages (from cirq==0.4.0->openfermioncirq) (2.1.0)\n",
      "Requirement already satisfied: py>=1.5.0 in /usr/local/lib/python3.6/site-packages (from pytest->openfermionpyscf) (1.8.1)\n",
      "Requirement already satisfied: setuptools in /usr/local/lib/python3.6/site-packages (from pytest->openfermionpyscf) (39.2.0)\n",
      "Requirement already satisfied: attrs>=17.4.0 in /usr/local/lib/python3.6/site-packages (from pytest->openfermionpyscf) (19.3.0)\n",
      "Requirement already satisfied: more-itertools>=4.0.0 in /usr/local/lib/python3.6/site-packages (from pytest->openfermionpyscf) (8.2.0)\n",
      "Requirement already satisfied: atomicwrites>=1.0 in /usr/local/lib/python3.6/site-packages (from pytest->openfermionpyscf) (1.3.0)\n",
      "Requirement already satisfied: pluggy>=0.7 in /usr/local/lib/python3.6/site-packages (from pytest->openfermionpyscf) (0.13.1)\n",
      "Requirement already satisfied: qtpy in /usr/local/lib/python3.6/site-packages (from qtconsole->jupyter->openfermion) (1.9.0)\n",
      "Requirement already satisfied: pygments in /usr/local/lib/python3.6/site-packages (from qtconsole->jupyter->openfermion) (2.6.1)\n",
      "Requirement already satisfied: jupyter-client>=4.1 in /usr/local/lib/python3.6/site-packages (from qtconsole->jupyter->openfermion) (6.0.0)\n",
      "Requirement already satisfied: ipython in /usr/local/lib/python3.6/site-packages (from jupyter-console->jupyter->openfermion) (7.13.0)\n",
      "Requirement already satisfied: prompt-toolkit!=3.0.0,!=3.0.1,<3.1.0,>=2.0.0 in /usr/local/lib/python3.6/site-packages (from jupyter-console->jupyter->openfermion) (3.0.4)\n",
      "Requirement already satisfied: widgetsnbextension~=3.5.0 in /usr/local/lib/python3.6/site-packages (from ipywidgets->jupyter->openfermion) (3.5.1)\n",
      "Requirement already satisfied: tornado>=5.0 in /usr/local/lib/python3.6/site-packages (from notebook->jupyter->openfermion) (6.0.4)\n",
      "Requirement already satisfied: terminado>=0.8.1 in /usr/local/lib/python3.6/site-packages (from notebook->jupyter->openfermion) (0.8.3)\n",
      "Requirement already satisfied: jinja2 in /usr/local/lib/python3.6/site-packages (from notebook->jupyter->openfermion) (2.11.1)\n",
      "Requirement already satisfied: Send2Trash in /usr/local/lib/python3.6/site-packages (from notebook->jupyter->openfermion) (1.5.0)\n",
      "Requirement already satisfied: pyzmq>=17 in /usr/local/lib/python3.6/site-packages (from notebook->jupyter->openfermion) (19.0.0)\n",
      "Requirement already satisfied: prometheus-client in /usr/local/lib/python3.6/site-packages (from notebook->jupyter->openfermion) (0.7.1)\n",
      "Requirement already satisfied: defusedxml in /usr/local/lib/python3.6/site-packages (from nbconvert->jupyter->openfermion) (0.6.0)\n",
      "Requirement already satisfied: mistune<2,>=0.8.1 in /usr/local/lib/python3.6/site-packages (from nbconvert->jupyter->openfermion) (0.8.4)\n",
      "Requirement already satisfied: pandocfilters>=1.4.1 in /usr/local/lib/python3.6/site-packages (from nbconvert->jupyter->openfermion) (1.4.2)\n",
      "Requirement already satisfied: bleach in /usr/local/lib/python3.6/site-packages (from nbconvert->jupyter->openfermion) (3.1.1)\n",
      "Requirement already satisfied: entrypoints>=0.2.2 in /usr/local/lib/python3.6/site-packages (from nbconvert->jupyter->openfermion) (0.3)\n",
      "Requirement already satisfied: testpath in /usr/local/lib/python3.6/site-packages (from nbconvert->jupyter->openfermion) (0.4.4)\n",
      "Requirement already satisfied: pyrsistent>=0.14.0 in /usr/local/lib/python3.6/site-packages (from jsonschema!=2.5.0,>=2.4->nbformat->openfermion) (0.15.7)\n",
      "Requirement already satisfied: importlib-metadata; python_version < \"3.8\" in /usr/local/lib/python3.6/site-packages (from jsonschema!=2.5.0,>=2.4->nbformat->openfermion) (1.5.0)\n",
      "Requirement already satisfied: google-auth-httplib2>=0.0.3 in /usr/local/lib/python3.6/site-packages (from google-api-python-client~=1.6->cirq==0.4.0->openfermioncirq) (0.0.3)\n",
      "Requirement already satisfied: uritemplate<4dev,>=3.0.0 in /usr/local/lib/python3.6/site-packages (from google-api-python-client~=1.6->cirq==0.4.0->openfermioncirq) (3.0.1)\n",
      "Requirement already satisfied: httplib2<1dev,>=0.9.2 in /usr/local/lib/python3.6/site-packages (from google-api-python-client~=1.6->cirq==0.4.0->openfermioncirq) (0.17.0)\n",
      "Requirement already satisfied: google-auth>=1.4.1 in /usr/local/lib/python3.6/site-packages (from google-api-python-client~=1.6->cirq==0.4.0->openfermioncirq) (1.11.2)\n",
      "Requirement already satisfied: chardet<3.1.0,>=3.0.2 in /usr/local/lib/python3.6/site-packages (from requests~=2.18->cirq==0.4.0->openfermioncirq) (3.0.4)\n",
      "Requirement already satisfied: idna<2.7,>=2.5 in /usr/local/lib/python3.6/site-packages (from requests~=2.18->cirq==0.4.0->openfermioncirq) (2.6)\n",
      "Requirement already satisfied: urllib3<1.23,>=1.21.1 in /usr/local/lib/python3.6/site-packages (from requests~=2.18->cirq==0.4.0->openfermioncirq) (1.22)\n",
      "Requirement already satisfied: certifi>=2017.4.17 in /usr/local/lib/python3.6/site-packages (from requests~=2.18->cirq==0.4.0->openfermioncirq) (2019.11.28)\n",
      "Requirement already satisfied: pickleshare in /usr/local/lib/python3.6/site-packages (from ipython->jupyter-console->jupyter->openfermion) (0.7.5)\n",
      "Requirement already satisfied: pexpect; sys_platform != \"win32\" in /usr/local/lib/python3.6/site-packages (from ipython->jupyter-console->jupyter->openfermion) (4.8.0)\n",
      "Requirement already satisfied: backcall in /usr/local/lib/python3.6/site-packages (from ipython->jupyter-console->jupyter->openfermion) (0.1.0)\n",
      "Requirement already satisfied: jedi>=0.10 in /usr/local/lib/python3.6/site-packages (from ipython->jupyter-console->jupyter->openfermion) (0.16.0)\n",
      "Requirement already satisfied: wcwidth in /usr/local/lib/python3.6/site-packages (from prompt-toolkit!=3.0.0,!=3.0.1,<3.1.0,>=2.0.0->jupyter-console->jupyter->openfermion) (0.1.8)\n",
      "Requirement already satisfied: ptyprocess; os_name != \"nt\" in /usr/local/lib/python3.6/site-packages (from terminado>=0.8.1->notebook->jupyter->openfermion) (0.6.0)\n",
      "Requirement already satisfied: MarkupSafe>=0.23 in /usr/local/lib/python3.6/site-packages (from jinja2->notebook->jupyter->openfermion) (1.1.1)\n",
      "Requirement already satisfied: webencodings in /usr/local/lib/python3.6/site-packages (from bleach->nbconvert->jupyter->openfermion) (0.5.1)\n",
      "Requirement already satisfied: zipp>=0.5 in /usr/local/lib/python3.6/site-packages (from importlib-metadata; python_version < \"3.8\"->jsonschema!=2.5.0,>=2.4->nbformat->openfermion) (3.1.0)\n",
      "Requirement already satisfied: rsa<4.1,>=3.1.4 in /usr/local/lib/python3.6/site-packages (from google-auth>=1.4.1->google-api-python-client~=1.6->cirq==0.4.0->openfermioncirq) (4.0)\n",
      "Requirement already satisfied: pyasn1-modules>=0.2.1 in /usr/local/lib/python3.6/site-packages (from google-auth>=1.4.1->google-api-python-client~=1.6->cirq==0.4.0->openfermioncirq) (0.2.8)\n",
      "Requirement already satisfied: cachetools<5.0,>=2.0.0 in /usr/local/lib/python3.6/site-packages (from google-auth>=1.4.1->google-api-python-client~=1.6->cirq==0.4.0->openfermioncirq) (4.0.0)\n",
      "Requirement already satisfied: parso>=0.5.2 in /usr/local/lib/python3.6/site-packages (from jedi>=0.10->ipython->jupyter-console->jupyter->openfermion) (0.6.2)\n",
      "Requirement already satisfied: pyasn1>=0.1.3 in /usr/local/lib/python3.6/site-packages (from rsa<4.1,>=3.1.4->google-auth>=1.4.1->google-api-python-client~=1.6->cirq==0.4.0->openfermioncirq) (0.4.8)\n",
      "\u001b[31mgoogle-auth 1.11.2 has requirement setuptools>=40.3.0, but you'll have setuptools 39.2.0 which is incompatible.\u001b[0m\n",
      "\u001b[31mcirq 0.4.0 has requirement matplotlib~=2.2, but you'll have matplotlib 3.2.0 which is incompatible.\u001b[0m\n"
     ]
    }
   ],
   "source": [
    "# Install/import libraries\n",
    "\n",
    "# OpenFermion\n",
    "# Install OpenFermion libraries\n",
    "!pip install openfermion openfermionpsi4 openfermioncirq pyscf openfermionpyscf\n",
    "import openfermion as of\n",
    "from openfermion.hamiltonians import MolecularData"
   ]
  },
  {
   "cell_type": "code",
   "execution_count": 0,
   "metadata": {
    "colab": {
     "base_uri": "https://localhost:8080/",
     "height": 1000
    },
    "colab_type": "code",
    "id": "TbaW0AVTCF7v",
    "outputId": "b645f988-5bd4-431e-d03b-35f0ed34ffb7"
   },
   "outputs": [
    {
     "name": "stdout",
     "output_type": "stream",
     "text": [
      "--2020-03-11 17:57:37--  https://repo.continuum.io/miniconda/Miniconda3-4.5.4-Linux-x86_64.sh\n",
      "Resolving repo.continuum.io (repo.continuum.io)... 104.18.200.79, 104.18.201.79, 2606:4700::6812:c94f, ...\n",
      "Connecting to repo.continuum.io (repo.continuum.io)|104.18.200.79|:443... connected.\n",
      "HTTP request sent, awaiting response... 200 OK\n",
      "Length: 58468498 (56M) [application/x-sh]\n",
      "Saving to: ‘Miniconda3-4.5.4-Linux-x86_64.sh.6’\n",
      "\n",
      "Miniconda3-4.5.4-Li 100%[===================>]  55.76M  79.4MB/s    in 0.7s    \n",
      "\n",
      "2020-03-11 17:57:37 (79.4 MB/s) - ‘Miniconda3-4.5.4-Linux-x86_64.sh.6’ saved [58468498/58468498]\n",
      "\n",
      "PREFIX=/usr/local\n",
      "installing: python-3.6.5-hc3d631a_2 ...\n",
      "Python 3.6.5 :: Anaconda, Inc.\n",
      "installing: ca-certificates-2018.03.07-0 ...\n",
      "installing: conda-env-2.6.0-h36134e3_1 ...\n",
      "installing: libgcc-ng-7.2.0-hdf63c60_3 ...\n",
      "installing: libstdcxx-ng-7.2.0-hdf63c60_3 ...\n",
      "installing: libffi-3.2.1-hd88cf55_4 ...\n",
      "installing: ncurses-6.1-hf484d3e_0 ...\n",
      "installing: openssl-1.0.2o-h20670df_0 ...\n",
      "installing: tk-8.6.7-hc745277_3 ...\n",
      "installing: xz-5.2.4-h14c3975_4 ...\n",
      "installing: yaml-0.1.7-had09818_2 ...\n",
      "installing: zlib-1.2.11-ha838bed_2 ...\n",
      "installing: libedit-3.1.20170329-h6b74fdf_2 ...\n",
      "installing: readline-7.0-ha6073c6_4 ...\n",
      "installing: sqlite-3.23.1-he433501_0 ...\n",
      "installing: asn1crypto-0.24.0-py36_0 ...\n",
      "installing: certifi-2018.4.16-py36_0 ...\n",
      "installing: chardet-3.0.4-py36h0f667ec_1 ...\n",
      "installing: idna-2.6-py36h82fb2a8_1 ...\n",
      "installing: pycosat-0.6.3-py36h0a5515d_0 ...\n",
      "installing: pycparser-2.18-py36hf9f622e_1 ...\n",
      "installing: pysocks-1.6.8-py36_0 ...\n",
      "installing: ruamel_yaml-0.15.37-py36h14c3975_2 ...\n",
      "installing: six-1.11.0-py36h372c433_1 ...\n",
      "installing: cffi-1.11.5-py36h9745a5d_0 ...\n",
      "installing: setuptools-39.2.0-py36_0 ...\n",
      "installing: cryptography-2.2.2-py36h14c3975_0 ...\n",
      "installing: wheel-0.31.1-py36_0 ...\n",
      "installing: pip-10.0.1-py36_0 ...\n",
      "installing: pyopenssl-18.0.0-py36_0 ...\n",
      "installing: urllib3-1.22-py36hbe7ace6_0 ...\n",
      "installing: requests-2.18.4-py36he2e5f8d_1 ...\n",
      "installing: conda-4.5.4-py36_0 ...\n",
      "unlinking: ca-certificates-2020.1.1-0\n",
      "unlinking: certifi-2019.11.28-py36_0\n",
      "unlinking: conda-4.8.2-py36_0\n",
      "unlinking: cryptography-2.8-py36h1ba5d50_0\n",
      "unlinking: libgcc-ng-9.1.0-hdf63c60_0\n",
      "unlinking: libstdcxx-ng-9.1.0-hdf63c60_0\n",
      "unlinking: openssl-1.1.1d-h7b6447c_4\n",
      "unlinking: python-3.6.8-h0371630_0\n",
      "unlinking: sqlite-3.26.0-h7b6447c_0\n",
      "unlinking: tk-8.6.8-hbc83047_0\n",
      "installation finished.\n",
      "WARNING:\n",
      "    You currently have a PYTHONPATH environment variable set. This may cause\n",
      "    unexpected behavior when running the Python interpreter in Miniconda3.\n",
      "    For best results, please verify that your PYTHONPATH only points to\n",
      "    directories of packages that are compatible with the Python interpreter\n",
      "    in Miniconda3: /usr/local\n",
      "Solving environment: - \b\b\\ \b\b| \b\b/ \b\b- \b\b\\ \b\b| \b\b/ \b\b- \b\b\\ \b\b| \b\b/ \b\b- \b\b\\ \b\b| \b\b/ \b\b- \b\b\\ \b\b| \b\b/ \b\b- \b\b\\ \b\b| \b\b/ \b\b- \b\b\\ \b\b| \b\b/ \b\b- \b\b\\ \b\b| \b\b/ \b\b- \b\b\\ \b\b| \b\b/ \b\b- \b\b\\ \b\b| \b\b/ \b\b- \b\b\\ \b\b| \b\b/ \b\b- \b\b\\ \b\b| \b\b/ \b\b- \b\b\\ \b\b| \b\b/ \b\b- \b\b\\ \b\b| \b\b/ \b\b- \b\b\\ \b\b| \b\b/ \b\b- \b\b\\ \b\b| \b\b/ \b\b- \b\b\\ \b\b| \b\b/ \b\b- \b\b\\ \b\b| \b\b/ \b\b- \b\b\\ \b\b| \b\b/ \b\b- \b\b\\ \b\b| \b\b/ \b\b- \b\b\\ \b\b| \b\b/ \b\b- \b\b\\ \b\b| \b\b/ \b\b- \b\b\\ \b\b| \b\b/ \b\b- \b\b\\ \b\b| \b\b/ \b\b- \b\b\\ \b\b| \b\b/ \b\b- \b\b\\ \b\b| \b\b/ \b\b- \b\b\\ \b\b| \b\b/ \b\b- \b\b\\ \b\b| \b\b/ \b\b- \b\b\\ \b\b| \b\b/ \b\b- \b\b\\ \b\b| \b\b/ \b\b- \b\b\\ \b\b| \b\b/ \b\b- \b\b\\ \b\b| \b\b/ \b\b- \b\b\\ \b\b| \b\b/ \b\b- \b\b\\ \b\b| \b\b/ \b\b- \b\b\\ \b\b| \b\b/ \b\b- \b\b\\ \b\b| \b\b/ \b\b- \b\b\\ \b\b| \b\b/ \b\b- \b\b\\ \b\b| \b\b/ \b\b- \b\b\\ \b\b| \b\b/ \b\b- \b\b\\ \b\b| \b\b/ \b\b- \b\b\\ \b\b| \b\b/ \b\b- \b\b\\ \b\b| \b\b/ \b\b- \b\b\\ \b\b| \b\b/ \b\b- \b\b\\ \b\b| \b\b/ \b\b- \b\b\\ \b\b| \b\b/ \b\b- \b\b\\ \b\b| \b\b/ \b\b- \b\b\\ \b\b| \b\b/ \b\b- \b\b\\ \b\b| \b\b/ \b\b- \b\b\\ \b\b| \b\b/ \b\b- \b\b\\ \b\b| \b\b/ \b\b- \b\b\\ \b\b| \b\b/ \b\b- \b\b\\ \b\b| \b\b/ \b\b- \b\b\\ \b\b| \b\b/ \b\b- \b\b\\ \b\b| \b\b/ \b\b- \b\b\\ \b\b| \b\b/ \b\b- \b\b\\ \b\b| \b\b/ \b\b- \b\b\\ \b\b| \b\b/ \b\b- \b\b\\ \b\b| \b\b/ \b\b- \b\b\\ \b\b| \b\b/ \b\b- \b\b\\ \b\b| \b\b/ \b\bdone\n",
      "\n",
      "## Package Plan ##\n",
      "\n",
      "  environment location: /usr/local\n",
      "\n",
      "  added / updated specs: \n",
      "    - psi4\n",
      "\n",
      "\n",
      "The following packages will be UPDATED:\n",
      "\n",
      "    ca-certificates: 2018.03.07-0         --> 2020.1.1-0        \n",
      "    certifi:         2018.4.16-py36_0     --> 2019.11.28-py36_0 \n",
      "    conda:           4.5.4-py36_0         --> 4.8.2-py36_0      \n",
      "    cryptography:    2.2.2-py36h14c3975_0 --> 2.8-py36h1ba5d50_0\n",
      "    libgcc-ng:       7.2.0-hdf63c60_3     --> 9.1.0-hdf63c60_0  \n",
      "    libstdcxx-ng:    7.2.0-hdf63c60_3     --> 9.1.0-hdf63c60_0  \n",
      "    openssl:         1.0.2o-h20670df_0    --> 1.1.1d-h7b6447c_4 \n",
      "    python:          3.6.5-hc3d631a_2     --> 3.6.8-h0371630_0  \n",
      "    sqlite:          3.23.1-he433501_0    --> 3.26.0-h7b6447c_0 \n",
      "    tk:              8.6.7-hc745277_3     --> 8.6.8-hbc83047_0  \n",
      "\n",
      "Preparing transaction: \\ \b\b| \b\bdone\n",
      "Verifying transaction: - \b\b\\ \b\b| \b\b/ \b\b- \b\b\\ \b\b| \b\b/ \b\b- \b\b\\ \b\b| \b\b/ \b\b- \b\b\\ \b\b| \b\bdone\n",
      "Executing transaction: - \b\b\\ \b\b| \b\b/ \b\b- \b\bdone\n"
     ]
    }
   ],
   "source": [
    "# Psi4\n",
    "# Set up a local conda environment for psi4\n",
    "!wget https://repo.continuum.io/miniconda/Miniconda3-4.5.4-Linux-x86_64.sh\n",
    "!bash Miniconda3-4.5.4-Linux-x86_64.sh -bfp /usr/local\n",
    "# Append path to be able to run packages installed with conda\n",
    "import sys\n",
    "sys.path.append('/usr/local/lib/python3.6/site-packages')\n",
    "# Install psi4 from Anaconda\n",
    "!conda install -c psi4 psi4 -y"
   ]
  },
  {
   "cell_type": "code",
   "execution_count": 0,
   "metadata": {
    "colab": {},
    "colab_type": "code",
    "id": "_2b0a6NECnOo"
   },
   "outputs": [],
   "source": [
    "# OpenFermionPsi4\n",
    "# Import opemfermionpsi4\n",
    "import openfermionpsi4\n",
    "from openfermionpsi4 import run_psi4"
   ]
  },
  {
   "cell_type": "code",
   "execution_count": 0,
   "metadata": {
    "colab": {},
    "colab_type": "code",
    "id": "JVokNyIekkTk"
   },
   "outputs": [],
   "source": [
    "# OpenFermionPySCF\n",
    "import openfermionpyscf as ofpyscf"
   ]
  },
  {
   "cell_type": "markdown",
   "metadata": {
    "colab_type": "text",
    "id": "MmmV7fO_9uKP"
   },
   "source": [
    "### 0. Problem Specification\n",
    "\n",
    "Our initial step is to specify our problem of interest."
   ]
  },
  {
   "cell_type": "markdown",
   "metadata": {
    "colab_type": "text",
    "id": "c4w3VCdZAiOV"
   },
   "source": [
    "In this notebook, we'll study molecular hydrogen, $H_2$. Our problem to solve will be **what bond length molecular hydrogen has**. We'll then compare our solution to experimental measurements from literature. \n",
    "\n",
    "The bond length is the distance between the nuclei of our two hydrogen atoms. It is an important determinant of a molecule's properties. For example, the longer the bond length, the easier it is to break apart our two hydrogens. Knowing the natural bond length allows researchers to do further simulations and is an important parameter for experimental tests such as spectroscopic transitions. \n",
    "\n",
    "![alt text](https://www.brooklyn.cuny.edu/bc/ahp/SDgraphics/PSgraphics/Molec.Hydrogen.GIF)\n",
    "\n",
    "[[Image source]](https://www.brooklyn.cuny.edu/bc/ahp/SDgraphics/PSgraphics/Molec.Hydrogen.GIF)\n",
    "\n"
   ]
  },
  {
   "cell_type": "markdown",
   "metadata": {
    "colab_type": "text",
    "id": "4WxDQjA3Eh89"
   },
   "source": [
    "## 1.0 Molecular specification\n",
    "First we'll define $H_2$ in OpenFermion as `h2_molecule` by specifying its geometry, basis, multipilicty, and charge."
   ]
  },
  {
   "cell_type": "markdown",
   "metadata": {
    "colab_type": "text",
    "id": "4KEHbJKPELJY"
   },
   "source": [
    "### 1.1 Geometry\n",
    "\n",
    "In specifying the geometry of H_2, we're assuming the [Born-Oppenheimer approximation](https://en.wikipedia.org/wiki/Born%E2%80%93Oppenheimer_approximation). This means we can treat the nuclei as fixed point charges and consider the ground state electronic energy as a function of the nuclei's positions.  \n",
    "\n",
    "The Hamiltonian operator (a function describing the total energy of the system) can thus be expressed as:\n",
    "![alt text](https://drive.google.com/uc?id=1gyibJIhO844k1FD7WqpemSI9bwDNTz8_)\n",
    "\n",
    "where we have:\n",
    "\n",
    "- atomic units of $\\hbar$ = 1\n",
    "- $r_i$, the positions of electrons\n",
    "- $R_i$, the positions of\n",
    "nuclei\n",
    "- $Z_i$, the charges of nuclei\n",
    "\n",
    "\n",
    "In our problem, our geometry is the nuclear positions, that can be specified by x, y, and z coordinates and atom labels (our two hydrogen atoms):"
   ]
  },
  {
   "cell_type": "code",
   "execution_count": 0,
   "metadata": {
    "colab": {},
    "colab_type": "code",
    "id": "q0-g1CpSBDXi"
   },
   "outputs": [],
   "source": [
    "bond_length = 0.74\n",
    "geometry = [['H', [0., 0., 0.]],\n",
    "            ['H', [0., 0., bond_length]]]"
   ]
  },
  {
   "cell_type": "markdown",
   "metadata": {
    "colab_type": "text",
    "id": "exskWZfeQhm9"
   },
   "source": [
    "### 1.2 Spin Multiplicity\n",
    "\n",
    "The spin multiplicity is the number of possible orientations of spin angular momentum:\n",
    "\n",
    "$multiplicity = 2S + 1$\n",
    "\n",
    "where $S$ is the total spin which is typically the number of unpaired electrons. Molecular hydrogen has two electrons that are pairs, so S = 0 and multiplicity = 1.\n",
    "\n",
    "In order to know S, some intution about electronic structure (what we're looking for, a function of the bond length) is needed. So, oftentimes an iterative process is used by taking an initial guess for S, solving the system, then changing S to see which one is likely to be the most physically accurate."
   ]
  },
  {
   "cell_type": "code",
   "execution_count": 0,
   "metadata": {
    "colab": {},
    "colab_type": "code",
    "id": "LsBT63DyEF__"
   },
   "outputs": [],
   "source": [
    "multiplicity = 1"
   ]
  },
  {
   "cell_type": "markdown",
   "metadata": {
    "colab_type": "text",
    "id": "Cp4oVHkMSah9"
   },
   "source": [
    "### 1.3 Charge\n",
    "\n",
    "We know electrons are negatively charged and protons are positively charged, so \n",
    "\n",
    "$ charge = (# protons) - (# electrons) $\n",
    "\n",
    "We're going to be looking at neural hydrogen, where the number of electrons and protons are the same, so our charge is 0."
   ]
  },
  {
   "cell_type": "code",
   "execution_count": 0,
   "metadata": {
    "colab": {},
    "colab_type": "code",
    "id": "runm2_HdEGi1"
   },
   "outputs": [],
   "source": [
    "charge = 0"
   ]
  },
  {
   "cell_type": "markdown",
   "metadata": {
    "colab_type": "text",
    "id": "pAOd0MmsUNk0"
   },
   "source": [
    "### 1.3 Basis Set\n",
    "\n",
    "A basis set is a set of functions combined in linear combinations to create molecular orbitals. These functions for molecular orbitals are then used to construct wavefunctions for the electronic states which describe the electronic states of molecules: \n",
    "\n",
    "> basis sets (Gaussian functions) $\\rightarrow$ molecular orbitals (sum of basis sets)$\\rightarrow$ electronic states of molecules (wavefunction)\n",
    "\n",
    "Common basis sets expressed as sums of Gaussians can be found [here](https://www.basissetexchange.org/). We're going to use a minimal basis set, `sto-3g`, 3 Gaussians used to approximate Slater-type orbitals."
   ]
  },
  {
   "cell_type": "code",
   "execution_count": 0,
   "metadata": {
    "colab": {},
    "colab_type": "code",
    "id": "YkUtXVbNEFnA"
   },
   "outputs": [],
   "source": [
    "basis = 'sto-3g'"
   ]
  },
  {
   "cell_type": "code",
   "execution_count": 0,
   "metadata": {
    "colab": {},
    "colab_type": "code",
    "id": "lYRjDWX-kWHd"
   },
   "outputs": [],
   "source": [
    "basis = "
   ]
  },
  {
   "cell_type": "markdown",
   "metadata": {
    "colab_type": "text",
    "id": "R9lYw5aMW8Ng"
   },
   "source": [
    "### 1.4 Define the molecule\n",
    "\n",
    "Now by specifying its geometry, basis, multipilicty, and charge, we'll define the $H_2$ molecule, `h2_molecule`"
   ]
  },
  {
   "cell_type": "code",
   "execution_count": 0,
   "metadata": {
    "colab": {},
    "colab_type": "code",
    "id": "9Sa2sSKHB5SZ"
   },
   "outputs": [],
   "source": [
    "# define H_2 molecule\n",
    "h2_molecule = MolecularData(geometry, basis, multiplicity, charge)"
   ]
  },
  {
   "cell_type": "markdown",
   "metadata": {
    "colab_type": "text",
    "id": "DwgAKi_KXydO"
   },
   "source": [
    "We can get information about our molecule's:\n",
    "* number of atoms using `molecule.n_atoms`\n",
    "* number of electrons using `molecule.n_electrons`\n",
    "\n",
    "as shown below!"
   ]
  },
  {
   "cell_type": "markdown",
   "metadata": {
    "colab_type": "text",
    "id": "bg1ep4jUkAlI"
   },
   "source": []
  },
  {
   "cell_type": "code",
   "execution_count": 0,
   "metadata": {
    "colab": {
     "base_uri": "https://localhost:8080/",
     "height": 69
    },
    "colab_type": "code",
    "id": "_cO7VfamXW1m",
    "outputId": "88c94eb9-b249-4a5c-faf9-e5511f0ec35d"
   },
   "outputs": [
    {
     "name": "stdout",
     "output_type": "stream",
     "text": [
      "This molecule has 2 atoms and 2 electrons.\n",
      "Contains H atom, which has 1 protons.\n",
      "Contains H atom, which has 1 protons.\n"
     ]
    }
   ],
   "source": [
    "print('This molecule has {} atoms and {} electrons.'.format(\n",
    "    h2_molecule.n_atoms, h2_molecule.n_electrons))\n",
    "for atom, atomic_number in zip(h2_molecule.atoms, h2_molecule.protons):\n",
    "    print('Contains {} atom, which has {} protons.'.format(\n",
    "        atom, atomic_number))"
   ]
  },
  {
   "cell_type": "markdown",
   "metadata": {
    "colab_type": "text",
    "id": "29vewphsaG2z"
   },
   "source": [
    "## 2.0 Numerical processing\n",
    "\n",
    "After specifying the molecule, the electronic structure problem may be written in the form of a second quantized electronic Hamiltonian as:\n",
    "\n",
    "![alt text](https://drive.google.com/uc?id=17a4BK5KHRGBbv_eUeraSJcbJObnEXCNi)\n",
    "\n",
    "In this form we have:\n",
    "- $R$, the fixed positions of\n",
    "nuclei\n",
    "- $a_j$, $a_k$, $a_l$, the annhilation operators\n",
    "- $a_{i}^\\dagger$, $a_{j}^\\dagger$, the creation operators\n",
    "- $h_ij$ and $h_{ijkl}$, the one and two-electron integerals, coefficients that depend on the physical system being described. These are defined by the basis set chosen, sto-3g. Using the OpenFermion-Psi4 plugin, these can be obtained in the MO basis in the Psi4 electronic strucutre code by executing `run_psi4`\n",
    "\n",
    "We want to calculate the lowest eignvalue of this Hamiltonian, which corresponds to the ground state energy."
   ]
  },
  {
   "cell_type": "markdown",
   "metadata": {
    "colab_type": "text",
    "id": "nKZYT3UvR4RH"
   },
   "source": [
    "#### 2.1 One and Two-Electron Integrals\n",
    "\n",
    "$h_ij$ and $h_{ijkl}$, the one and two-electron integerals, are coefficients in the Hamiltonian that depend on the physical system being described. These are defined by the basis set chosen\n",
    "\n",
    "`run_pyscf` runs a PySCF calculation for one and two-electron integrals using the Hartree-Fock method. "
   ]
  },
  {
   "cell_type": "code",
   "execution_count": 0,
   "metadata": {
    "colab": {},
    "colab_type": "code",
    "id": "1Ent-1oOGXdn"
   },
   "outputs": [],
   "source": [
    "run_scf = 1\n",
    "run_mp2 = 1\n",
    "run_cisd = 0\n",
    "run_ccsd = 0\n",
    "run_fci = 1\n",
    "\n",
    "h2_molecule = ofpyscf.run_pyscf(h2_molecule,\n",
    "                    run_scf=run_scf,\n",
    "                    run_mp2=run_mp2,\n",
    "                    run_cisd=run_cisd,\n",
    "                    run_ccsd=run_ccsd,\n",
    "                    run_fci=run_fci)"
   ]
  },
  {
   "cell_type": "markdown",
   "metadata": {
    "colab_type": "text",
    "id": "gwjD1lIUG0LR"
   },
   "source": [
    "The MP2, CISD, CCSD, and FCI energies are used to improve upon the Hartree-Fock method. These energies are descriptions of correlated motions of electrons [(Møller and Plesset, 1934)](https://journals.aps.org/pr/pdf/10.1103/PhysRev.46.618). Psi4 documentation explains that: \n",
    "* MP2 (second order Møller-Plesset perturbation theory) is used for small molecules\n",
    "* CISD (configuration interaction with singly and doubly subsituted determinants) can be used for larger molecules but are not size extensive (degrades as molecule size increases)\n",
    "* CCSD (coupled-cluster singles and doubles) is slightly more computationally costly than MP2 and CISD, but is better suited for larger molecules with more accurate results\n",
    "* FCI is the full configuration interaction\n",
    "\n",
    "See Psi4 documentation for more detail [here](http://www.psicode.org/psi4manual/master/detci.html)"
   ]
  },
  {
   "cell_type": "markdown",
   "metadata": {
    "colab_type": "text",
    "id": "tv3xWQp4M3_n"
   },
   "source": [
    "The one and two electron integrals can then be returned by calling `.one_body_integrals` and `.two_body_integrals`"
   ]
  },
  {
   "cell_type": "code",
   "execution_count": 0,
   "metadata": {
    "colab": {},
    "colab_type": "code",
    "id": "pzUGEh-kNUOo"
   },
   "outputs": [],
   "source": [
    "one_electron_integrals = h2_molecule.one_body_integrals"
   ]
  },
  {
   "cell_type": "code",
   "execution_count": 0,
   "metadata": {
    "colab": {},
    "colab_type": "code",
    "id": "ueEcYjA1GZHT"
   },
   "outputs": [],
   "source": [
    "two_electron_integrals = h2_molecule.two_body_integrals"
   ]
  },
  {
   "cell_type": "code",
   "execution_count": 0,
   "metadata": {
    "colab": {
     "base_uri": "https://localhost:8080/",
     "height": 52
    },
    "colab_type": "code",
    "id": "hbqi0NwjWBYP",
    "outputId": "c902d652-7477-49c5-e2a5-9bd4dfb84d5a"
   },
   "outputs": [
    {
     "name": "stdout",
     "output_type": "stream",
     "text": [
      "[[-1.25330979e+00 -2.27668982e-16]\n",
      " [-1.98624663e-16 -4.75068849e-01]]\n"
     ]
    }
   ],
   "source": [
    "print(one_electron_integrals)"
   ]
  },
  {
   "cell_type": "code",
   "execution_count": 0,
   "metadata": {
    "colab": {
     "base_uri": "https://localhost:8080/",
     "height": 225
    },
    "colab_type": "code",
    "id": "snOM7D0fm5uq",
    "outputId": "084cc872-a12a-4682-c8ea-2981f63c49ff"
   },
   "outputs": [
    {
     "name": "stdout",
     "output_type": "stream",
     "text": [
      "[[[[6.74755927e-01 1.42010673e-17]\n",
      "   [1.02278901e-16 1.81210462e-01]]\n",
      "\n",
      "  [[1.02278901e-16 1.81210462e-01]\n",
      "   [6.63711401e-01 1.49957052e-16]]]\n",
      "\n",
      "\n",
      " [[[1.42010673e-17 6.63711401e-01]\n",
      "   [1.81210462e-01 7.90885985e-17]]\n",
      "\n",
      "  [[1.81210462e-01 7.90885985e-17]\n",
      "   [1.49957052e-16 6.97651504e-01]]]]\n"
     ]
    }
   ],
   "source": [
    "print(two_electron_integrals)"
   ]
  },
  {
   "cell_type": "markdown",
   "metadata": {
    "colab_type": "text",
    "id": "IwVxKDunmj9f"
   },
   "source": [
    "### 2.2 Hamiltonian\n",
    "\n",
    "OpenFermion calculates the Hamiltonian using the integrals we found above. To calculate, we run `.get_molecular_hamiltonian()`"
   ]
  },
  {
   "cell_type": "code",
   "execution_count": 0,
   "metadata": {
    "colab": {
     "base_uri": "https://localhost:8080/",
     "height": 659
    },
    "colab_type": "code",
    "id": "kMiUKpomlIQ9",
    "outputId": "f6355152-43f6-4abd-9e3c-778e917957cf"
   },
   "outputs": [
    {
     "name": "stdout",
     "output_type": "stream",
     "text": [
      "0.7151043390810812 [] +\n",
      "-1.2533097866459773 [0^ 0] +\n",
      "0.3373779634072241 [0^ 0^ 0 0] +\n",
      "0.09060523100759854 [0^ 0^ 2 2] +\n",
      "0.3373779634072241 [0^ 1^ 1 0] +\n",
      "0.09060523100759854 [0^ 1^ 3 2] +\n",
      "0.09060523100759854 [0^ 2^ 0 2] +\n",
      "0.3318557006754069 [0^ 2^ 2 0] +\n",
      "0.09060523100759854 [0^ 3^ 1 2] +\n",
      "0.3318557006754069 [0^ 3^ 3 0] +\n",
      "0.3373779634072241 [1^ 0^ 0 1] +\n",
      "0.09060523100759854 [1^ 0^ 2 3] +\n",
      "-1.2533097866459773 [1^ 1] +\n",
      "0.3373779634072241 [1^ 1^ 1 1] +\n",
      "0.09060523100759854 [1^ 1^ 3 3] +\n",
      "0.09060523100759854 [1^ 2^ 0 3] +\n",
      "0.3318557006754069 [1^ 2^ 2 1] +\n",
      "0.09060523100759854 [1^ 3^ 1 3] +\n",
      "0.3318557006754069 [1^ 3^ 3 1] +\n",
      "0.3318557006754069 [2^ 0^ 0 2] +\n",
      "0.09060523100759854 [2^ 0^ 2 0] +\n",
      "0.3318557006754069 [2^ 1^ 1 2] +\n",
      "0.09060523100759854 [2^ 1^ 3 0] +\n",
      "-0.47506884877217576 [2^ 2] +\n",
      "0.09060523100759854 [2^ 2^ 0 0] +\n",
      "0.348825752245232 [2^ 2^ 2 2] +\n",
      "0.09060523100759854 [2^ 3^ 1 0] +\n",
      "0.348825752245232 [2^ 3^ 3 2] +\n",
      "0.3318557006754069 [3^ 0^ 0 3] +\n",
      "0.09060523100759854 [3^ 0^ 2 1] +\n",
      "0.3318557006754069 [3^ 1^ 1 3] +\n",
      "0.09060523100759854 [3^ 1^ 3 1] +\n",
      "0.09060523100759854 [3^ 2^ 0 1] +\n",
      "0.348825752245232 [3^ 2^ 2 3] +\n",
      "-0.47506884877217576 [3^ 3] +\n",
      "0.09060523100759854 [3^ 3^ 1 1] +\n",
      "0.348825752245232 [3^ 3^ 3 3]\n"
     ]
    }
   ],
   "source": [
    "# Perform electronic structure calculations and obtain Hamiltonian as an InteractionOperator\n",
    "hamiltonian = ofpyscf.generate_molecular_hamiltonian(\n",
    "  geometry, basis, multiplicity, charge)\n",
    "\n",
    "# Convert to a FermionOperator\n",
    "hamiltonian_ferm_op = of.get_fermion_operator(hamiltonian)\n",
    "print(hamiltonian_ferm_op)"
   ]
  },
  {
   "cell_type": "markdown",
   "metadata": {
    "colab_type": "text",
    "id": "wv7XYmGGoWSx"
   },
   "source": [
    "## 3.0 Ground State Energy Calculation\n",
    "\n",
    "We can map the Hamiltonian we created `hamiltonian_ferm_op`, to a qubit operator using the Jordan-Wigner map, which we can call using OpenFermion's `jordan_wigner` function"
   ]
  },
  {
   "cell_type": "code",
   "execution_count": 0,
   "metadata": {
    "colab": {},
    "colab_type": "code",
    "id": "CbvQ3tKDUuzk"
   },
   "outputs": [],
   "source": [
    "import openfermion.transforms\n",
    "from openfermion.transforms import get_fermion_operator, jordan_wigner, get_sparse_operator\n",
    "h2_qubit_hamiltonian = jordan_wigner(get_fermion_operator(h2_molecule.get_molecular_hamiltonian()))"
   ]
  },
  {
   "cell_type": "code",
   "execution_count": 0,
   "metadata": {
    "colab": {
     "base_uri": "https://localhost:8080/",
     "height": 277
    },
    "colab_type": "code",
    "id": "mddV2WugVzQT",
    "outputId": "e2d3a70e-c4f9-43ef-8a7e-88ba38d518b2"
   },
   "outputs": [
    {
     "name": "stdout",
     "output_type": "stream",
     "text": [
      "(-0.0970662681676283+0j) [] +\n",
      "(-0.04530261550379927+0j) [X0 X1 Y2 Y3] +\n",
      "(0.04530261550379927+0j) [X0 Y1 Y2 X3] +\n",
      "(0.04530261550379927+0j) [Y0 X1 X2 Y3] +\n",
      "(-0.04530261550379927+0j) [Y0 Y1 X2 X3] +\n",
      "(0.17141282644776895+0j) [Z0] +\n",
      "(0.16868898170361205+0j) [Z0 Z1] +\n",
      "(0.12062523483390417+0j) [Z0 Z2] +\n",
      "(0.16592785033770344+0j) [Z0 Z3] +\n",
      "(0.17141282644776898+0j) [Z1] +\n",
      "(0.16592785033770344+0j) [Z1 Z2] +\n",
      "(0.12062523483390417+0j) [Z1 Z3] +\n",
      "(-0.22343153690813572+0j) [Z2] +\n",
      "(0.174412876122616+0j) [Z2 Z3] +\n",
      "(-0.22343153690813572+0j) [Z3]\n"
     ]
    }
   ],
   "source": [
    "print(h2_qubit_hamiltonian)"
   ]
  },
  {
   "cell_type": "markdown",
   "metadata": {
    "colab_type": "text",
    "id": "Sc7rHdpM2GaW"
   },
   "source": [
    "To get the ground energy, we convert our qubit operator `h2_qubit_hamiltonian` to matrix then get the lowest eignvalue using Scipy's `.sparse.linalg.eigsh`"
   ]
  },
  {
   "cell_type": "code",
   "execution_count": 0,
   "metadata": {
    "colab": {
     "base_uri": "https://localhost:8080/",
     "height": 35
    },
    "colab_type": "code",
    "id": "Hk_im-8hxsGG",
    "outputId": "ab4a9f5f-9c74-467b-8668-47dd54ad6186"
   },
   "outputs": [
    {
     "name": "stdout",
     "output_type": "stream",
     "text": [
      "Ground_energy: -1.1372838344885028\n"
     ]
    }
   ],
   "source": [
    "import scipy.sparse\n",
    "\n",
    "# Convert to Scipy sparse matrix\n",
    "hamiltonian_jw_sparse = of.get_sparse_operator(h2_qubit_hamiltonian)\n",
    "\n",
    "# Compute ground energy\n",
    "eigs, _ = scipy.sparse.linalg.eigsh(hamiltonian_jw_sparse, k=1, which='SA')\n",
    "ground_energy = eigs[0]\n",
    "\n",
    "print('Ground_energy: {}'.format(ground_energy))"
   ]
  },
  {
   "cell_type": "markdown",
   "metadata": {
    "colab_type": "text",
    "id": "_tibp8EB3gNM"
   },
   "source": [
    "## 4.0 Bond length calculation\n",
    "\n",
    "Now that we know the ground energy, we can find the distance that corresponds to that ground energy. That distance will be our bond length of $H_2$"
   ]
  },
  {
   "cell_type": "code",
   "execution_count": 0,
   "metadata": {
    "colab": {
     "base_uri": "https://localhost:8080/",
     "height": 279
    },
    "colab_type": "code",
    "id": "61RGlD_rhw5t",
    "outputId": "d9825589-2324-4862-f2aa-180b7dad21db"
   },
   "outputs": [
    {
     "data": {
      "image/png": "[encoded data removed]",
      "text/plain": [
       "<Figure size 432x288 with 1 Axes>"
      ]
     },
     "metadata": {
      "tags": []
     },
     "output_type": "display_data"
    }
   ],
   "source": [
    "# Set molecule parameters.\n",
    "basis = 'sto-3g'\n",
    "multiplicity = 1\n",
    "bond_length_interval = 0.05\n",
    "n_points = 40\n",
    "\n",
    "# Set calculation parameters.\n",
    "run_scf = 1\n",
    "run_mp2 = 1\n",
    "run_cisd = 0\n",
    "run_ccsd = 0\n",
    "run_fci = 1\n",
    "delete_input = True\n",
    "delete_output = True\n",
    "\n",
    "# Generate molecule at different bond lengths.\n",
    "hf_energies = []\n",
    "fci_energies = []\n",
    "bond_lengths = []\n",
    "for point in range(1, n_points + 1):\n",
    "    bond_length = bond_length_interval * float(point)\n",
    "    bond_lengths += [bond_length]\n",
    "    geometry = [('H', (0., 0., 0.)), ('H', (0., 0., bond_length))]\n",
    "    molecule = MolecularData(\n",
    "        geometry, basis, multiplicity,\n",
    "        description=str(round(bond_length, 2)))\n",
    "    \n",
    "    # Run pyscf.\n",
    "    molecule = ofpyscf.run_pyscf(molecule,\n",
    "                        run_scf=run_scf,\n",
    "                        run_mp2=run_mp2,\n",
    "                        run_cisd=run_cisd,\n",
    "                        run_ccsd=run_ccsd,\n",
    "                        run_fci=run_fci)\n",
    "    hf_energies += [molecule.hf_energy]\n",
    "    fci_energies += [molecule.fci_energy]\n",
    "\n",
    "# Plot.\n",
    "import matplotlib.pyplot as plt\n",
    "%matplotlib inline\n",
    "\n",
    "plt.figure(0)\n",
    "plt.plot(bond_lengths, fci_energies, 'x-')\n",
    "plt.plot(bond_lengths, hf_energies, 'o-')\n",
    "plt.ylabel('Energy in Hartree')\n",
    "plt.xlabel('Bond length in angstrom')\n",
    "plt.show()\n"
   ]
  },
  {
   "cell_type": "code",
   "execution_count": 0,
   "metadata": {
    "colab": {
     "base_uri": "https://localhost:8080/",
     "height": 35
    },
    "colab_type": "code",
    "id": "8_xb5ZAH5EeT",
    "outputId": "f141fa8d-52a3-49e4-e8c5-50872922e171"
   },
   "outputs": [
    {
     "name": "stdout",
     "output_type": "stream",
     "text": [
      "Calculated bond length: 0.7589890445944005\n"
     ]
    }
   ],
   "source": [
    "# interpolate with known ground state energy\n",
    "calculated_bond_length = bond_lengths[13]+(ground_energy-fci_energies[13])*((bond_lengths[14]-bond_lengths[13])/(fci_energies[14]-fci_energies[13]))\n",
    "print('Calculated bond length: {}'.format(calculated_bond_length))"
   ]
  },
  {
   "cell_type": "markdown",
   "metadata": {
    "colab_type": "text",
    "id": "8HOqqkw3Cw5o"
   },
   "source": [
    "## X. References\n",
    "[OpenFermion docs](https://github.com/quantumlib/OpenFermion)\n",
    "\n",
    "[OpenFermion arXiv paper, 2019](https://arxiv.org/pdf/1710.07629.pdf)\n",
    "\n",
    "[Møller and Plesset paper, 1934](https://journals.aps.org/pr/pdf/10.1103/PhysRev.46.618)\n",
    "\n",
    "[Psi4 docs](http://www.psicode.org/psi4manual/master/detci.html)\n",
    "\n",
    "[Pyscf docs](https://sunqm.github.io/pyscf/)"
   ]
  },
  {
   "cell_type": "code",
   "execution_count": 0,
   "metadata": {
    "colab": {},
    "colab_type": "code",
    "id": "j_mV5sOgERme"
   },
   "outputs": [],
   "source": []
  }
 ],
 "metadata": {
  "colab": {
   "name": "Lecture 16: Quantum Chemistry.ipynb",
   "provenance": [],
   "toc_visible": true
  },
  "kernelspec": {
   "display_name": "Python 3",
   "language": "python",
   "name": "python3"
  },
  "language_info": {
   "codemirror_mode": {
    "name": "ipython",
    "version": 3
   },
   "file_extension": ".py",
   "mimetype": "text/x-python",
   "name": "python",
   "nbconvert_exporter": "python",
   "pygments_lexer": "ipython3",
   "version": "3.8.0"
  }
 },
 "nbformat": 4,
 "nbformat_minor": 1
}
